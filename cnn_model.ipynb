{
  "nbformat": 4,
  "nbformat_minor": 0,
  "metadata": {
    "colab": {
      "name": "Untitled0.ipynb",
      "provenance": [],
      "collapsed_sections": [],
      "toc_visible": true,
      "authorship_tag": "ABX9TyOXJ3n7D+Si8mqAg+NeZJOc",
      "include_colab_link": true
    },
    "kernelspec": {
      "name": "python3",
      "display_name": "Python 3"
    }
  },
  "cells": [
    {
      "cell_type": "markdown",
      "metadata": {
        "id": "view-in-github",
        "colab_type": "text"
      },
      "source": [
        "<a href=\"https://colab.research.google.com/github/mrqasimasif/Learn_Machine_Learning/blob/master/cnn_model.ipynb\" target=\"_parent\"><img src=\"https://colab.research.google.com/assets/colab-badge.svg\" alt=\"Open In Colab\"/></a>"
      ]
    },
    {
      "cell_type": "code",
      "metadata": {
        "id": "eD1w8XN568_i",
        "colab_type": "code",
        "colab": {
          "base_uri": "https://localhost:8080/",
          "height": 34
        },
        "outputId": "4ec675eb-41a5-4588-ec1a-a1e0cad612c6"
      },
      "source": [
        "!git clone https://bitbucket.org/jadslim/german-traffic-signs"
      ],
      "execution_count": 3,
      "outputs": [
        {
          "output_type": "stream",
          "text": [
            "fatal: destination path 'german-traffic-signs' already exists and is not an empty directory.\n"
          ],
          "name": "stdout"
        }
      ]
    },
    {
      "cell_type": "code",
      "metadata": {
        "id": "dfPTmUYb7fJH",
        "colab_type": "code",
        "colab": {}
      },
      "source": [
        "import pickle"
      ],
      "execution_count": 0,
      "outputs": []
    },
    {
      "cell_type": "code",
      "metadata": {
        "id": "B5H3IuAK7ltV",
        "colab_type": "code",
        "colab": {}
      },
      "source": [
        "with open('german-traffic-signs/train.p','rb') as f:\n",
        "  train_data = pickle.load(f)\n",
        "with open('german-traffic-signs/test.p','rb') as f:\n",
        "  test_data = pickle.load(f)\n",
        "with open('german-traffic-signs/valid.p','rb') as f:\n",
        "  valid_data = pickle.load(f)"
      ],
      "execution_count": 0,
      "outputs": []
    },
    {
      "cell_type": "code",
      "metadata": {
        "id": "FIac_ORD9Py_",
        "colab_type": "code",
        "colab": {}
      },
      "source": [
        "x_train, y_train = train_data['features'], train_data['labels']\n",
        "x_test, y_test = test_data['features'], test_data['labels']\n",
        "x_valid, y_valid = valid_data['features'], valid_data['labels']"
      ],
      "execution_count": 0,
      "outputs": []
    },
    {
      "cell_type": "code",
      "metadata": {
        "id": "arUj1XGq9UYw",
        "colab_type": "code",
        "colab": {
          "base_uri": "https://localhost:8080/",
          "height": 68
        },
        "outputId": "e10f8c20-af3a-4ff4-e77d-6324bf4016b6"
      },
      "source": [
        "print(x_train.shape)\n",
        "print(x_test.shape)\n",
        "print(x_valid.shape)"
      ],
      "execution_count": 12,
      "outputs": [
        {
          "output_type": "stream",
          "text": [
            "(34799, 32, 32, 3)\n",
            "(12630, 32, 32, 3)\n",
            "(4410, 32, 32, 3)\n"
          ],
          "name": "stdout"
        }
      ]
    },
    {
      "cell_type": "code",
      "metadata": {
        "id": "K8ACy5Wp9cfw",
        "colab_type": "code",
        "colab": {
          "base_uri": "https://localhost:8080/",
          "height": 283
        },
        "outputId": "05e8f662-a7a9-4173-f2ed-62c0ac072170"
      },
      "source": [
        "import matplotlib.pyplot as plt\n",
        "\n",
        "plt.imshow(x_train[0])\n",
        "print(x_train[0].shape)"
      ],
      "execution_count": 14,
      "outputs": [
        {
          "output_type": "stream",
          "text": [
            "(32, 32, 3)\n"
          ],
          "name": "stdout"
        },
        {
          "output_type": "display_data",
          "data": {
            "image/png": "[encoded data removed]",
            "text/plain": [
              "<Figure size 432x288 with 1 Axes>"
            ]
          },
          "metadata": {
            "tags": []
          }
        }
      ]
    },
    {
      "cell_type": "code",
      "metadata": {
        "id": "dbQ-OMm3-GRZ",
        "colab_type": "code",
        "colab": {
          "base_uri": "https://localhost:8080/",
          "height": 765
        },
        "outputId": "cf67e105-c6cc-46c0-8054-595effbbdba7"
      },
      "source": [
        "import pandas as pd\n",
        "data = pd.read_csv('german-traffic-signs/signnames.csv')\n",
        "print(data)"
      ],
      "execution_count": 15,
      "outputs": [
        {
          "output_type": "stream",
          "text": [
            "    ClassId                                           SignName\n",
            "0         0                               Speed limit (20km/h)\n",
            "1         1                               Speed limit (30km/h)\n",
            "2         2                               Speed limit (50km/h)\n",
            "3         3                               Speed limit (60km/h)\n",
            "4         4                               Speed limit (70km/h)\n",
            "5         5                               Speed limit (80km/h)\n",
            "6         6                        End of speed limit (80km/h)\n",
            "7         7                              Speed limit (100km/h)\n",
            "8         8                              Speed limit (120km/h)\n",
            "9         9                                         No passing\n",
            "10       10       No passing for vechiles over 3.5 metric tons\n",
            "11       11              Right-of-way at the next intersection\n",
            "12       12                                      Priority road\n",
            "13       13                                              Yield\n",
            "14       14                                               Stop\n",
            "15       15                                        No vechiles\n",
            "16       16           Vechiles over 3.5 metric tons prohibited\n",
            "17       17                                           No entry\n",
            "18       18                                    General caution\n",
            "19       19                        Dangerous curve to the left\n",
            "20       20                       Dangerous curve to the right\n",
            "21       21                                       Double curve\n",
            "22       22                                         Bumpy road\n",
            "23       23                                      Slippery road\n",
            "24       24                          Road narrows on the right\n",
            "25       25                                          Road work\n",
            "26       26                                    Traffic signals\n",
            "27       27                                        Pedestrians\n",
            "28       28                                  Children crossing\n",
            "29       29                                  Bicycles crossing\n",
            "30       30                                 Beware of ice/snow\n",
            "31       31                              Wild animals crossing\n",
            "32       32                End of all speed and passing limits\n",
            "33       33                                   Turn right ahead\n",
            "34       34                                    Turn left ahead\n",
            "35       35                                         Ahead only\n",
            "36       36                               Go straight or right\n",
            "37       37                                Go straight or left\n",
            "38       38                                         Keep right\n",
            "39       39                                          Keep left\n",
            "40       40                               Roundabout mandatory\n",
            "41       41                                  End of no passing\n",
            "42       42  End of no passing by vechiles over 3.5 metric ...\n"
          ],
          "name": "stdout"
        }
      ]
    },
    {
      "cell_type": "code",
      "metadata": {
        "id": "NRGkBpjg-u4d",
        "colab_type": "code",
        "colab": {}
      },
      "source": [
        "import keras\n",
        "from keras.models import Sequential \n",
        "from keras.optimizers import Adam\n",
        "from keras.layers import Dense,Flatten,Conv2D,MaxPooling2D,Dropout\n",
        "\n",
        "#model\n",
        "\n",
        "model = Sequential()\n",
        "model.add(Conv2D(30,(5,5),input_shape=(32,32,1), activation='relu'))\n",
        "model.add(MaxPooling2D(pool_size=(2,2)))\n",
        "model.add(Conv2D(15,(3,3),activation='relu'))\n",
        "model.add(MaxPooling2D(pool_size=(2,2)))\n",
        "model.add(Flatten())\n",
        "model.add(Dense(500,activation='relu'))\n",
        "model.add(Dropout(0.5))\n",
        "model.add(Dense(43,activation='softmax'))\n",
        "\n",
        "\n",
        "model.compile(loss='categorical_crossentropy',optimizer='adam',metrics=['accuracy'])"
      ],
      "execution_count": 0,
      "outputs": []
    },
    {
      "cell_type": "code",
      "metadata": {
        "id": "lPBMsqXk_jFN",
        "colab_type": "code",
        "colab": {}
      },
      "source": [
        "import cv2\n",
        "\n",
        "def gray(img):\n",
        "  img = cv2.cvtColor(img,cv2.COLOR_BGR2GRAY)\n",
        "  return img\n",
        "\n",
        "def equalize(img):\n",
        "  img = cv2.equalizeHist(img)\n",
        "  return img\n",
        "\n",
        "def preprocessor(img):\n",
        "  img = gray(img)\n",
        "  img = equalize(img)\n",
        "  img = img/255\n",
        "  return img\n",
        "\n"
      ],
      "execution_count": 0,
      "outputs": []
    },
    {
      "cell_type": "code",
      "metadata": {
        "id": "agwxJmEIDBOM",
        "colab_type": "code",
        "colab": {}
      },
      "source": [
        "import numpy as np\n",
        "\n",
        "x_train = np.array(list(map(preprocessor,x_train)))\n",
        "x_test = np.array(list(map(preprocessor,x_test)))\n",
        "x_valid = np.array(list(map(preprocessor,x_valid)))"
      ],
      "execution_count": 0,
      "outputs": []
    },
    {
      "cell_type": "code",
      "metadata": {
        "id": "uLCxRNoMEUcB",
        "colab_type": "code",
        "colab": {
          "base_uri": "https://localhost:8080/",
          "height": 283
        },
        "outputId": "506e8046-941e-490d-9b4e-bc1e41c3eb55"
      },
      "source": [
        "plt.imshow(x_train[0])\n",
        "print(x_train[0].shape)"
      ],
      "execution_count": 26,
      "outputs": [
        {
          "output_type": "stream",
          "text": [
            "(32, 32)\n"
          ],
          "name": "stdout"
        },
        {
          "output_type": "display_data",
          "data": {
            "image/png": "[encoded data removed]",
            "text/plain": [
              "<Figure size 432x288 with 1 Axes>"
            ]
          },
          "metadata": {
            "tags": []
          }
        }
      ]
    },
    {
      "cell_type": "code",
      "metadata": {
        "id": "NsWJfSMOF1uR",
        "colab_type": "code",
        "colab": {
          "base_uri": "https://localhost:8080/",
          "height": 442
        },
        "outputId": "dad5fba0-040d-4920-f273-c83a8bae23f2"
      },
      "source": [
        "print(model.summary())"
      ],
      "execution_count": 31,
      "outputs": [
        {
          "output_type": "stream",
          "text": [
            "Model: \"sequential_6\"\n",
            "_________________________________________________________________\n",
            "Layer (type)                 Output Shape              Param #   \n",
            "=================================================================\n",
            "conv2d_7 (Conv2D)            (None, 28, 28, 30)        780       \n",
            "_________________________________________________________________\n",
            "max_pooling2d_7 (MaxPooling2 (None, 14, 14, 30)        0         \n",
            "_________________________________________________________________\n",
            "conv2d_8 (Conv2D)            (None, 12, 12, 15)        4065      \n",
            "_________________________________________________________________\n",
            "max_pooling2d_8 (MaxPooling2 (None, 6, 6, 15)          0         \n",
            "_________________________________________________________________\n",
            "flatten_4 (Flatten)          (None, 540)               0         \n",
            "_________________________________________________________________\n",
            "dense_5 (Dense)              (None, 500)               270500    \n",
            "_________________________________________________________________\n",
            "dropout_2 (Dropout)          (None, 500)               0         \n",
            "_________________________________________________________________\n",
            "dense_6 (Dense)              (None, 43)                21543     \n",
            "=================================================================\n",
            "Total params: 296,888\n",
            "Trainable params: 296,888\n",
            "Non-trainable params: 0\n",
            "_________________________________________________________________\n",
            "None\n"
          ],
          "name": "stdout"
        }
      ]
    },
    {
      "cell_type": "code",
      "metadata": {
        "id": "ggk2CCZEGADy",
        "colab_type": "code",
        "colab": {}
      },
      "source": [
        "from keras.utils.np_utils import to_categorical\n",
        "\n",
        "y_cat_train = to_categorical(y_train,43)\n",
        "y_cat_test = to_categorical(y_test,43)\n",
        "y_cat_valid = to_categorical(y_valid,43)\n",
        "\n",
        "x_train = x_train.reshape(34799,32,32,1)\n",
        "x_test = x_test.reshape(12630,32,32,1)\n",
        "x_valid = x_valid.reshape(4410,32,32,1)"
      ],
      "execution_count": 0,
      "outputs": []
    },
    {
      "cell_type": "code",
      "metadata": {
        "id": "WZuuFWVRHG3z",
        "colab_type": "code",
        "colab": {
          "base_uri": "https://localhost:8080/",
          "height": 714
        },
        "outputId": "b2166b26-d722-4c86-a4cd-4edf2877f1de"
      },
      "source": [
        "model.fit(x_train,y_cat_train,epochs=20,batch_size=400,shuffle=1)"
      ],
      "execution_count": 39,
      "outputs": [
        {
          "output_type": "stream",
          "text": [
            "Epoch 1/20\n",
            "34799/34799 [==============================] - 26s 755us/step - loss: 0.0162 - acc: 0.9945\n",
            "Epoch 2/20\n",
            "34799/34799 [==============================] - 26s 751us/step - loss: 0.0119 - acc: 0.9965\n",
            "Epoch 3/20\n",
            "34799/34799 [==============================] - 26s 752us/step - loss: 0.0116 - acc: 0.9961\n",
            "Epoch 4/20\n",
            "34799/34799 [==============================] - 26s 753us/step - loss: 0.0139 - acc: 0.9953\n",
            "Epoch 5/20\n",
            "34799/34799 [==============================] - 26s 746us/step - loss: 0.0170 - acc: 0.9944\n",
            "Epoch 6/20\n",
            "34799/34799 [==============================] - 26s 751us/step - loss: 0.0128 - acc: 0.9959\n",
            "Epoch 7/20\n",
            "34799/34799 [==============================] - 26s 734us/step - loss: 0.0123 - acc: 0.9958\n",
            "Epoch 8/20\n",
            "34799/34799 [==============================] - 25s 730us/step - loss: 0.0113 - acc: 0.9962\n",
            "Epoch 9/20\n",
            "34799/34799 [==============================] - 25s 723us/step - loss: 0.0104 - acc: 0.9966\n",
            "Epoch 10/20\n",
            "34799/34799 [==============================] - 25s 721us/step - loss: 0.0096 - acc: 0.9969\n",
            "Epoch 11/20\n",
            "34799/34799 [==============================] - 25s 731us/step - loss: 0.0100 - acc: 0.9968\n",
            "Epoch 12/20\n",
            "34799/34799 [==============================] - 25s 725us/step - loss: 0.0144 - acc: 0.9953\n",
            "Epoch 13/20\n",
            "34799/34799 [==============================] - 26s 736us/step - loss: 0.0092 - acc: 0.9969\n",
            "Epoch 14/20\n",
            "34799/34799 [==============================] - 25s 712us/step - loss: 0.0092 - acc: 0.9970\n",
            "Epoch 15/20\n",
            "34799/34799 [==============================] - 25s 707us/step - loss: 0.0114 - acc: 0.9968\n",
            "Epoch 16/20\n",
            "34799/34799 [==============================] - 24s 703us/step - loss: 0.0112 - acc: 0.9964\n",
            "Epoch 17/20\n",
            "34799/34799 [==============================] - 24s 696us/step - loss: 0.0104 - acc: 0.9966\n",
            "Epoch 18/20\n",
            "34799/34799 [==============================] - 24s 699us/step - loss: 0.0099 - acc: 0.9971\n",
            "Epoch 19/20\n",
            "34799/34799 [==============================] - 24s 696us/step - loss: 0.0117 - acc: 0.9962\n",
            "Epoch 20/20\n",
            "34799/34799 [==============================] - 25s 705us/step - loss: 0.0105 - acc: 0.9967\n"
          ],
          "name": "stdout"
        },
        {
          "output_type": "execute_result",
          "data": {
            "text/plain": [
              "<keras.callbacks.History at 0x7f1a5dae6b00>"
            ]
          },
          "metadata": {
            "tags": []
          },
          "execution_count": 39
        }
      ]
    },
    {
      "cell_type": "code",
      "metadata": {
        "id": "e1FkGmkeIkzf",
        "colab_type": "code",
        "colab": {}
      },
      "source": [
        "model.save(\"model.h5\")"
      ],
      "execution_count": 0,
      "outputs": []
    }
  ]
}